{
 "cells": [
  {
   "cell_type": "code",
   "execution_count": 1,
   "id": "6a1d044c",
   "metadata": {
    "scrolled": true
   },
   "outputs": [],
   "source": [
    "import requests\n",
    "import cv2\n",
    "import base64\n",
    "import json\n",
    "import os\n",
    "from PIL import Image\n",
    "import io\n",
    "from zipfile import ZipFile"
   ]
  },
  {
   "cell_type": "code",
   "execution_count": 17,
   "id": "fb988841",
   "metadata": {},
   "outputs": [
    {
     "name": "stdout",
     "output_type": "stream",
     "text": [
      "{'company_code': '0', 'employee_code': '0', 'nombre_completo': 'pierce jackson', 'filenames': ['fotito.jpg', 'fotito2.jpg']}\n"
     ]
    }
   ],
   "source": [
    "# mock para crear colaborador.\n",
    "filename = r\"C:\\Users\\ratatosck\\Desktop\\fotos\\fotito.jpg\"\n",
    "filename2 = r\"C:\\Users\\ratatosck\\Desktop\\fotos\\fotito2.jpg\"\n",
    "\n",
    "# se incertan las imagenes en un arregle/lista como tuplas.\n",
    "files = [('files', open(filename, 'rb')), ('files', open(filename2, 'rb'))]\n",
    "\n",
    "response = requests.post(\n",
    "    'http://127.0.0.1:5000/create_collaborator',\n",
    "    files=files,\n",
    "    data={'company_code': \"0\", 'employee_code': \"0\", 'nombre_completo': \"pierce jackson\"}\n",
    ")\n",
    "\n",
    "print(response.json())"
   ]
  },
  {
   "cell_type": "code",
   "execution_count": 14,
   "id": "e4301871",
   "metadata": {},
   "outputs": [
    {
     "name": "stdout",
     "output_type": "stream",
     "text": [
      "{'access': True, 'status': 'found, password correct', 'name': 'Mary Beachler', 'company_code': '0'}\n",
      "True\n"
     ]
    }
   ],
   "source": [
    "# mock para hacer login\n",
    "\n",
    "response = requests.post(\n",
    "    'http://198.199.82.209:5000/admin_login',\n",
    "    json={\"username\": \"admin14\", \"password\": \"admin14pass\"}\n",
    ")\n",
    "\n",
    "print(response.json())\n",
    "\n",
    "type(response.json())\n",
    "response_dict = response.json()\n",
    "print(response_dict['access'])"
   ]
  },
  {
   "cell_type": "code",
   "execution_count": 7,
   "id": "110a7177",
   "metadata": {},
   "outputs": [
    {
     "name": "stdout",
     "output_type": "stream",
     "text": [
      "{'3': 'Adrian Clinton', '4': 'Jennifer Garner', '5': 'Dennis Kucinich'}\n",
      "Adrian Clinton\n",
      "Jennifer Garner\n",
      "Dennis Kucinich\n"
     ]
    }
   ],
   "source": [
    "# mock para leer colaboradores\n",
    "\n",
    "response = requests.post(\n",
    "    'http://localhost:5000/read_collaborators',\n",
    "    json={\"company_code\": \"0\"}\n",
    ")\n",
    "\n",
    "print(response.json())\n",
    "response_dict = response.json()\n",
    "for employee in response_dict:\n",
    "    print(response_dict[employee])"
   ]
  },
  {
   "cell_type": "code",
   "execution_count": 6,
   "id": "613c6d21",
   "metadata": {},
   "outputs": [
    {
     "name": "stdout",
     "output_type": "stream",
     "text": [
      "{'date': 'Thu, 02 Dec 2021 23:38:36 GMT', 'server': 'uvicorn', 'content-disposition': 'attachment;filename=archive.zip', 'content-length': '794780', 'content-type': 'application/x-zip-compressed'}\n",
      "<class 'bytes'>\n"
     ]
    }
   ],
   "source": [
    "# mock para read collaborator (solo imagen por ahora)\n",
    "response = requests.post(\n",
    "    'http://127.0.0.1:5000/read_collaborator',\n",
    "    json={\"company_code\": \"0\", \"employee_code\": \"3\"}\n",
    ")\n",
    "\n",
    "#print(response.content)\n",
    "print(response.headers)\n",
    "print(type(response.content))\n",
    "\n",
    "# Binary I/O (also called buffered I/O) expects bytes-like objects and produces bytes objects.\n",
    "# este byte object se pasa a zipfile para hacer un objeto de zipfile. \n",
    "file = ZipFile(io.BytesIO(response.content))\n",
    "\n",
    "\n",
    "def extract_zip(input_zip):\n",
    "    return {name: input_zip.read(name) for name in input_zip.namelist()}\n",
    "\n",
    "# se extrae el zip\n",
    "unzipped_images = extract_zip(file)\n",
    "\n",
    "# se abre cada imagen (tomar en cuenta que el mismo archivo dentro del zip tiene que ser transformado a byte object)\n",
    "for filename in unzipped_images:\n",
    "    image = Image.open(io.BytesIO(unzipped_images[filename]))\n",
    "    image.show()\n",
    "\n",
    "# asi es como se hace en python, no se como seria en dart."
   ]
  },
  {
   "cell_type": "code",
   "execution_count": null,
   "id": "dbdc2f3f",
   "metadata": {},
   "outputs": [],
   "source": []
  }
 ],
 "metadata": {
  "kernelspec": {
   "display_name": "Python 3",
   "language": "python",
   "name": "python3"
  },
  "language_info": {
   "codemirror_mode": {
    "name": "ipython",
    "version": 3
   },
   "file_extension": ".py",
   "mimetype": "text/x-python",
   "name": "python",
   "nbconvert_exporter": "python",
   "pygments_lexer": "ipython3",
   "version": "3.8.8"
  }
 },
 "nbformat": 4,
 "nbformat_minor": 5
}
